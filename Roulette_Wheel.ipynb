{
  "nbformat": 4,
  "nbformat_minor": 0,
  "metadata": {
    "colab": {
      "name": "q3",
      "provenance": []
    },
    "kernelspec": {
      "name": "python3",
      "display_name": "Python 3"
    }
  },
  "cells": [
    {
      "cell_type": "markdown",
      "metadata": {
        "id": "av-ES-vUL6qS"
      },
      "source": [
        "# Problem: Roulette Wheel Game\n",
        "\n",
        "- Create three roulette wheel games\n"
      ]
    },
    {
      "cell_type": "code",
      "metadata": {
        "id": "gR7lHIXISBgA"
      },
      "source": [
        "import random\n",
        "import numpy as np\n",
        "\n",
        "def wheel(spins):\n",
        "\n",
        "  wheels = [1,2,3]\n",
        "  values = ['A','B','C','D','E']\n",
        "\n",
        "  dic = {'loss': 0, 'double': 0, 'jackpot': 0}\n",
        "  \n",
        "  for i in range(spins):\n",
        "    spin = []\n",
        "    for i in wheels:\n",
        "      temp = random.choice(values)\n",
        "      spin.append(temp)\n",
        "    spin = set(spin)\n",
        "\n",
        "    if len(spin) == 1:\n",
        "      dic['jackpot'] += 1\n",
        "    if len(spin) == 2:\n",
        "      dic['double'] += 1\n",
        "    if len(spin) == 3:\n",
        "      dic['loss'] += 1\n",
        "  \n",
        "  return dic"
      ],
      "execution_count": 1,
      "outputs": []
    },
    {
      "cell_type": "code",
      "metadata": {
        "id": "LEhv8WSDMgeL",
        "outputId": "442e6c25-f01c-4e8d-dd28-472fef457bb3",
        "colab": {
          "base_uri": "https://localhost:8080/"
        }
      },
      "source": [
        "wheel(10)"
      ],
      "execution_count": 3,
      "outputs": [
        {
          "output_type": "execute_result",
          "data": {
            "text/plain": [
              "{'double': 5, 'jackpot': 1, 'loss': 4}"
            ]
          },
          "metadata": {
            "tags": []
          },
          "execution_count": 3
        }
      ]
    }
  ]
}