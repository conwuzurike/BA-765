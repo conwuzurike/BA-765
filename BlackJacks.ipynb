{
  "nbformat": 4,
  "nbformat_minor": 0,
  "metadata": {
    "colab": {
      "name": "q2",
      "provenance": [],
      "collapsed_sections": []
    },
    "kernelspec": {
      "name": "python3",
      "display_name": "Python 3"
    }
  },
  "cells": [
    {
      "cell_type": "code",
      "metadata": {
        "id": "yakR9GpWLc1B"
      },
      "source": [
        "import random\n",
        "\n",
        "\n",
        "def dealer(num_cards=2):\n",
        "\n",
        "  suits = ['Clubs', 'Diamonds', 'Hearts', 'Spades']\n",
        "  values = [1,2,3,4,5,6,7,8,9,10,10,10,10]\n",
        "  \n",
        "  deck = []\n",
        "  for i in suits:\n",
        "    for j in values:\n",
        "      temp = (i,j)\n",
        "      deck.append(temp)\n",
        "  \n",
        "  cards = len(deck)\n",
        "  full_deck = []\n",
        "  \n",
        "  while cards > 0:\n",
        "    index = random.randrange(cards)\n",
        "    temp = deck.pop(index)\n",
        "    full_deck.append(temp)\n",
        "    cards = len(deck)\n",
        "  \n",
        "  hand = full_deck[:num_cards]\n",
        "  pile = full_deck [num_cards:]\n",
        "\n",
        "  dic = {'full_deck':full_deck,'hand':hand,'pile':pile}\n",
        "\n",
        "  return dic\n",
        "\n"
      ],
      "execution_count": 3,
      "outputs": []
    },
    {
      "cell_type": "code",
      "metadata": {
        "id": "KAVVaDAFLnkP"
      },
      "source": [
        "import numpy as np\n",
        "\n",
        "\n",
        "def twenty1():\n",
        "  wallet = 100\n",
        "  games = 0\n",
        "  twenty = []\n",
        "  \n",
        "  while wallet >= 10 and games < 100:\n",
        "    wallet -= 10\n",
        "    games += 1\n",
        "    dic = {}\n",
        "    num_cards = np.random.choice([2,3], size=1, p=[.5,.5])[0]\n",
        "    deal = dealer(num_cards)\n",
        "    hand = deal['hand']\n",
        "    handtotal = 0\n",
        "    for i in range(len(hand)):\n",
        "      temp = hand[i][1]\n",
        "      handtotal += temp\n",
        "\n",
        "    if handtotal <= 16:\n",
        "      wallet += 0\n",
        "    elif handtotal in [17,18,19,20]:\n",
        "      wallet += 10\n",
        "    elif handtotal == 21:\n",
        "      wallet += 50\n",
        "    elif handtotal >= 22:\n",
        "      wallet += 0\n",
        "\n",
        "    dic = {'gp': games, 'hand':hand,'handtotal':handtotal,'wallet':wallet}\n",
        "    twenty.append(dic)\n",
        "\n",
        "  return twenty\n"
      ],
      "execution_count": 4,
      "outputs": []
    },
    {
      "cell_type": "code",
      "metadata": {
        "id": "ZTDAzBwqN_Uw",
        "colab": {
          "base_uri": "https://localhost:8080/"
        },
        "outputId": "c2ad4857-c8e2-40a6-ebed-43ead11fc8f2"
      },
      "source": [
        "twenty1()"
      ],
      "execution_count": 5,
      "outputs": [
        {
          "output_type": "execute_result",
          "data": {
            "text/plain": [
              "[{'gp': 1,\n",
              "  'hand': [('Hearts', 3), ('Clubs', 2)],\n",
              "  'handtotal': 5,\n",
              "  'wallet': 90},\n",
              " {'gp': 2,\n",
              "  'hand': [('Diamonds', 6), ('Hearts', 4)],\n",
              "  'handtotal': 10,\n",
              "  'wallet': 80},\n",
              " {'gp': 3,\n",
              "  'hand': [('Diamonds', 6), ('Spades', 5), ('Clubs', 1)],\n",
              "  'handtotal': 12,\n",
              "  'wallet': 70},\n",
              " {'gp': 4,\n",
              "  'hand': [('Hearts', 10), ('Diamonds', 10)],\n",
              "  'handtotal': 20,\n",
              "  'wallet': 70},\n",
              " {'gp': 5,\n",
              "  'hand': [('Spades', 6), ('Diamonds', 4)],\n",
              "  'handtotal': 10,\n",
              "  'wallet': 60},\n",
              " {'gp': 6,\n",
              "  'hand': [('Diamonds', 9), ('Spades', 10)],\n",
              "  'handtotal': 19,\n",
              "  'wallet': 60},\n",
              " {'gp': 7,\n",
              "  'hand': [('Hearts', 2), ('Hearts', 7)],\n",
              "  'handtotal': 9,\n",
              "  'wallet': 50},\n",
              " {'gp': 8,\n",
              "  'hand': [('Diamonds', 1), ('Spades', 10), ('Spades', 8)],\n",
              "  'handtotal': 19,\n",
              "  'wallet': 50},\n",
              " {'gp': 9,\n",
              "  'hand': [('Hearts', 2), ('Clubs', 9)],\n",
              "  'handtotal': 11,\n",
              "  'wallet': 40},\n",
              " {'gp': 10,\n",
              "  'hand': [('Clubs', 3), ('Hearts', 10), ('Spades', 5)],\n",
              "  'handtotal': 18,\n",
              "  'wallet': 40},\n",
              " {'gp': 11,\n",
              "  'hand': [('Diamonds', 10), ('Clubs', 1)],\n",
              "  'handtotal': 11,\n",
              "  'wallet': 30},\n",
              " {'gp': 12,\n",
              "  'hand': [('Clubs', 10), ('Spades', 10)],\n",
              "  'handtotal': 20,\n",
              "  'wallet': 30},\n",
              " {'gp': 13,\n",
              "  'hand': [('Diamonds', 10), ('Spades', 10)],\n",
              "  'handtotal': 20,\n",
              "  'wallet': 30},\n",
              " {'gp': 14,\n",
              "  'hand': [('Spades', 9), ('Hearts', 4)],\n",
              "  'handtotal': 13,\n",
              "  'wallet': 20},\n",
              " {'gp': 15,\n",
              "  'hand': [('Diamonds', 8), ('Diamonds', 10), ('Clubs', 1)],\n",
              "  'handtotal': 19,\n",
              "  'wallet': 20},\n",
              " {'gp': 16,\n",
              "  'hand': [('Hearts', 5), ('Diamonds', 3)],\n",
              "  'handtotal': 8,\n",
              "  'wallet': 10},\n",
              " {'gp': 17,\n",
              "  'hand': [('Spades', 9), ('Hearts', 9), ('Hearts', 5)],\n",
              "  'handtotal': 23,\n",
              "  'wallet': 0}]"
            ]
          },
          "metadata": {
            "tags": []
          },
          "execution_count": 5
        }
      ]
    }
  ]
}