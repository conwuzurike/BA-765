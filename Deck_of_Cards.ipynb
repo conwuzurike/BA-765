{
  "nbformat": 4,
  "nbformat_minor": 0,
  "metadata": {
    "colab": {
      "name": "q1",
      "provenance": [],
      "collapsed_sections": []
    },
    "kernelspec": {
      "name": "python3",
      "display_name": "Python 3"
    }
  },
  "cells": [
    {
      "cell_type": "markdown",
      "metadata": {
        "id": "ARPyOWLWKYdG"
      },
      "source": [
        "# Problem\n",
        "\n",
        "- Create a deck of card\n",
        "- Shuffle Deck\n",
        "- Default Draw 2 cards"
      ]
    },
    {
      "cell_type": "code",
      "metadata": {
        "id": "Ua7PYwkTGSF9"
      },
      "source": [
        "import random\n",
        "\n",
        "\n",
        "def dealer(num_cards=2):\n",
        "\n",
        "  suits = ['Clubs', 'Diamonds', 'Hearts', 'Spades']\n",
        "  values = [1,2,3,4,5,6,7,8,9,10,10,10,10]\n",
        "  \n",
        "  deck = []\n",
        "  for i in suits:\n",
        "    for j in values:\n",
        "      temp = (i,j)\n",
        "      deck.append(temp)\n",
        "  \n",
        "  cards = len(deck)\n",
        "  full_deck = []\n",
        "  \n",
        "  while cards > 0:\n",
        "    index = random.randrange(cards)\n",
        "    temp = deck.pop(index)\n",
        "    full_deck.append(temp)\n",
        "    cards = len(deck)\n",
        "  \n",
        "  hand = full_deck[:num_cards]\n",
        "  pile = full_deck [num_cards:]\n",
        "\n",
        "  dic = {'full_deck':full_deck,'hand':hand,'pile':pile}\n",
        "\n",
        "  return dic\n",
        "\n"
      ],
      "execution_count": 1,
      "outputs": []
    },
    {
      "cell_type": "code",
      "metadata": {
        "colab": {
          "base_uri": "https://localhost:8080/"
        },
        "id": "XiN9gW6gKIVi",
        "outputId": "d5564a7d-2dca-4a61-f672-46afed61e703"
      },
      "source": [
        "dealer()"
      ],
      "execution_count": 2,
      "outputs": [
        {
          "output_type": "execute_result",
          "data": {
            "text/plain": [
              "{'full_deck': [('Hearts', 5),\n",
              "  ('Spades', 3),\n",
              "  ('Spades', 4),\n",
              "  ('Spades', 10),\n",
              "  ('Spades', 9),\n",
              "  ('Hearts', 3),\n",
              "  ('Clubs', 8),\n",
              "  ('Spades', 8),\n",
              "  ('Spades', 1),\n",
              "  ('Hearts', 2),\n",
              "  ('Hearts', 1),\n",
              "  ('Clubs', 10),\n",
              "  ('Spades', 10),\n",
              "  ('Clubs', 2),\n",
              "  ('Hearts', 4),\n",
              "  ('Hearts', 8),\n",
              "  ('Hearts', 6),\n",
              "  ('Spades', 10),\n",
              "  ('Diamonds', 7),\n",
              "  ('Diamonds', 10),\n",
              "  ('Diamonds', 4),\n",
              "  ('Spades', 2),\n",
              "  ('Diamonds', 1),\n",
              "  ('Diamonds', 6),\n",
              "  ('Diamonds', 10),\n",
              "  ('Diamonds', 10),\n",
              "  ('Hearts', 10),\n",
              "  ('Spades', 6),\n",
              "  ('Hearts', 9),\n",
              "  ('Clubs', 10),\n",
              "  ('Hearts', 10),\n",
              "  ('Clubs', 9),\n",
              "  ('Diamonds', 3),\n",
              "  ('Clubs', 3),\n",
              "  ('Spades', 5),\n",
              "  ('Clubs', 5),\n",
              "  ('Clubs', 7),\n",
              "  ('Diamonds', 10),\n",
              "  ('Diamonds', 2),\n",
              "  ('Hearts', 10),\n",
              "  ('Hearts', 10),\n",
              "  ('Diamonds', 9),\n",
              "  ('Spades', 10),\n",
              "  ('Clubs', 10),\n",
              "  ('Hearts', 7),\n",
              "  ('Diamonds', 5),\n",
              "  ('Clubs', 6),\n",
              "  ('Clubs', 10),\n",
              "  ('Spades', 7),\n",
              "  ('Diamonds', 8),\n",
              "  ('Clubs', 4),\n",
              "  ('Clubs', 1)],\n",
              " 'hand': [('Hearts', 5), ('Spades', 3)],\n",
              " 'pile': [('Spades', 4),\n",
              "  ('Spades', 10),\n",
              "  ('Spades', 9),\n",
              "  ('Hearts', 3),\n",
              "  ('Clubs', 8),\n",
              "  ('Spades', 8),\n",
              "  ('Spades', 1),\n",
              "  ('Hearts', 2),\n",
              "  ('Hearts', 1),\n",
              "  ('Clubs', 10),\n",
              "  ('Spades', 10),\n",
              "  ('Clubs', 2),\n",
              "  ('Hearts', 4),\n",
              "  ('Hearts', 8),\n",
              "  ('Hearts', 6),\n",
              "  ('Spades', 10),\n",
              "  ('Diamonds', 7),\n",
              "  ('Diamonds', 10),\n",
              "  ('Diamonds', 4),\n",
              "  ('Spades', 2),\n",
              "  ('Diamonds', 1),\n",
              "  ('Diamonds', 6),\n",
              "  ('Diamonds', 10),\n",
              "  ('Diamonds', 10),\n",
              "  ('Hearts', 10),\n",
              "  ('Spades', 6),\n",
              "  ('Hearts', 9),\n",
              "  ('Clubs', 10),\n",
              "  ('Hearts', 10),\n",
              "  ('Clubs', 9),\n",
              "  ('Diamonds', 3),\n",
              "  ('Clubs', 3),\n",
              "  ('Spades', 5),\n",
              "  ('Clubs', 5),\n",
              "  ('Clubs', 7),\n",
              "  ('Diamonds', 10),\n",
              "  ('Diamonds', 2),\n",
              "  ('Hearts', 10),\n",
              "  ('Hearts', 10),\n",
              "  ('Diamonds', 9),\n",
              "  ('Spades', 10),\n",
              "  ('Clubs', 10),\n",
              "  ('Hearts', 7),\n",
              "  ('Diamonds', 5),\n",
              "  ('Clubs', 6),\n",
              "  ('Clubs', 10),\n",
              "  ('Spades', 7),\n",
              "  ('Diamonds', 8),\n",
              "  ('Clubs', 4),\n",
              "  ('Clubs', 1)]}"
            ]
          },
          "metadata": {
            "tags": []
          },
          "execution_count": 2
        }
      ]
    }
  ]
}